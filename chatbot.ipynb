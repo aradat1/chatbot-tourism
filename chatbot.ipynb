{
 "cells": [
  {
   "cell_type": "markdown",
   "source": [
    "# Training the data"
   ],
   "metadata": {
    "collapsed": false
   }
  },
  {
   "cell_type": "code",
   "execution_count": 115,
   "outputs": [
    {
     "data": {
      "text/plain": "LogisticRegression(max_iter=1000)",
      "text/html": "<style>#sk-container-id-5 {color: black;background-color: white;}#sk-container-id-5 pre{padding: 0;}#sk-container-id-5 div.sk-toggleable {background-color: white;}#sk-container-id-5 label.sk-toggleable__label {cursor: pointer;display: block;width: 100%;margin-bottom: 0;padding: 0.3em;box-sizing: border-box;text-align: center;}#sk-container-id-5 label.sk-toggleable__label-arrow:before {content: \"▸\";float: left;margin-right: 0.25em;color: #696969;}#sk-container-id-5 label.sk-toggleable__label-arrow:hover:before {color: black;}#sk-container-id-5 div.sk-estimator:hover label.sk-toggleable__label-arrow:before {color: black;}#sk-container-id-5 div.sk-toggleable__content {max-height: 0;max-width: 0;overflow: hidden;text-align: left;background-color: #f0f8ff;}#sk-container-id-5 div.sk-toggleable__content pre {margin: 0.2em;color: black;border-radius: 0.25em;background-color: #f0f8ff;}#sk-container-id-5 input.sk-toggleable__control:checked~div.sk-toggleable__content {max-height: 200px;max-width: 100%;overflow: auto;}#sk-container-id-5 input.sk-toggleable__control:checked~label.sk-toggleable__label-arrow:before {content: \"▾\";}#sk-container-id-5 div.sk-estimator input.sk-toggleable__control:checked~label.sk-toggleable__label {background-color: #d4ebff;}#sk-container-id-5 div.sk-label input.sk-toggleable__control:checked~label.sk-toggleable__label {background-color: #d4ebff;}#sk-container-id-5 input.sk-hidden--visually {border: 0;clip: rect(1px 1px 1px 1px);clip: rect(1px, 1px, 1px, 1px);height: 1px;margin: -1px;overflow: hidden;padding: 0;position: absolute;width: 1px;}#sk-container-id-5 div.sk-estimator {font-family: monospace;background-color: #f0f8ff;border: 1px dotted black;border-radius: 0.25em;box-sizing: border-box;margin-bottom: 0.5em;}#sk-container-id-5 div.sk-estimator:hover {background-color: #d4ebff;}#sk-container-id-5 div.sk-parallel-item::after {content: \"\";width: 100%;border-bottom: 1px solid gray;flex-grow: 1;}#sk-container-id-5 div.sk-label:hover label.sk-toggleable__label {background-color: #d4ebff;}#sk-container-id-5 div.sk-serial::before {content: \"\";position: absolute;border-left: 1px solid gray;box-sizing: border-box;top: 0;bottom: 0;left: 50%;z-index: 0;}#sk-container-id-5 div.sk-serial {display: flex;flex-direction: column;align-items: center;background-color: white;padding-right: 0.2em;padding-left: 0.2em;position: relative;}#sk-container-id-5 div.sk-item {position: relative;z-index: 1;}#sk-container-id-5 div.sk-parallel {display: flex;align-items: stretch;justify-content: center;background-color: white;position: relative;}#sk-container-id-5 div.sk-item::before, #sk-container-id-5 div.sk-parallel-item::before {content: \"\";position: absolute;border-left: 1px solid gray;box-sizing: border-box;top: 0;bottom: 0;left: 50%;z-index: -1;}#sk-container-id-5 div.sk-parallel-item {display: flex;flex-direction: column;z-index: 1;position: relative;background-color: white;}#sk-container-id-5 div.sk-parallel-item:first-child::after {align-self: flex-end;width: 50%;}#sk-container-id-5 div.sk-parallel-item:last-child::after {align-self: flex-start;width: 50%;}#sk-container-id-5 div.sk-parallel-item:only-child::after {width: 0;}#sk-container-id-5 div.sk-dashed-wrapped {border: 1px dashed gray;margin: 0 0.4em 0.5em 0.4em;box-sizing: border-box;padding-bottom: 0.4em;background-color: white;}#sk-container-id-5 div.sk-label label {font-family: monospace;font-weight: bold;display: inline-block;line-height: 1.2em;}#sk-container-id-5 div.sk-label-container {text-align: center;}#sk-container-id-5 div.sk-container {/* jupyter's `normalize.less` sets `[hidden] { display: none; }` but bootstrap.min.css set `[hidden] { display: none !important; }` so we also need the `!important` here to be able to override the default hidden behavior on the sphinx rendered scikit-learn.org. See: https://github.com/scikit-learn/scikit-learn/issues/21755 */display: inline-block !important;position: relative;}#sk-container-id-5 div.sk-text-repr-fallback {display: none;}</style><div id=\"sk-container-id-5\" class=\"sk-top-container\"><div class=\"sk-text-repr-fallback\"><pre>LogisticRegression(max_iter=1000)</pre><b>In a Jupyter environment, please rerun this cell to show the HTML representation or trust the notebook. <br />On GitHub, the HTML representation is unable to render, please try loading this page with nbviewer.org.</b></div><div class=\"sk-container\" hidden><div class=\"sk-item\"><div class=\"sk-estimator sk-toggleable\"><input class=\"sk-toggleable__control sk-hidden--visually\" id=\"sk-estimator-id-5\" type=\"checkbox\" checked><label for=\"sk-estimator-id-5\" class=\"sk-toggleable__label sk-toggleable__label-arrow\">LogisticRegression</label><div class=\"sk-toggleable__content\"><pre>LogisticRegression(max_iter=1000)</pre></div></div></div></div></div>"
     },
     "execution_count": 115,
     "metadata": {},
     "output_type": "execute_result"
    }
   ],
   "source": [
    "import pandas as pd\n",
    "from sklearn.feature_extraction.text import CountVectorizer\n",
    "from sklearn.linear_model import LogisticRegression\n",
    "\n",
    "# load the csv file with user input and intent\n",
    "data = pd.read_csv('input_intent.csv')\n",
    "\n",
    "# split the data into training and testing sets\n",
    "train_data = data.sample(frac=0.8, random_state=42)\n",
    "test_data = data.drop(train_data.index)\n",
    "\n",
    "# vectorize the user input using CountVectorizer\n",
    "vectorizer = CountVectorizer()\n",
    "X_train = vectorizer.fit_transform(train_data['user_Input'])\n",
    "X_test = vectorizer.transform(test_data['user_Input'])\n",
    "\n",
    "# train a logistic regression model\n",
    "y_train = train_data['Intent']\n",
    "model = LogisticRegression(max_iter=1000)\n",
    "model.fit(X_train, y_train)\n"
   ],
   "metadata": {
    "collapsed": false
   }
  },
  {
   "cell_type": "markdown",
   "source": [
    "# Install and import"
   ],
   "metadata": {
    "collapsed": false
   }
  },
  {
   "cell_type": "code",
   "execution_count": 86,
   "outputs": [
    {
     "name": "stdout",
     "output_type": "stream",
     "text": [
      "Requirement already satisfied: spacy in /Users/amitmistriel/.conda/envs/workspace/lib/python3.10/site-packages (3.5.0)\r\n",
      "Requirement already satisfied: setuptools in /Users/amitmistriel/.conda/envs/workspace/lib/python3.10/site-packages (from spacy) (65.5.0)\r\n",
      "Requirement already satisfied: tqdm<5.0.0,>=4.38.0 in /Users/amitmistriel/.conda/envs/workspace/lib/python3.10/site-packages (from spacy) (4.64.1)\r\n",
      "Requirement already satisfied: srsly<3.0.0,>=2.4.3 in /Users/amitmistriel/.conda/envs/workspace/lib/python3.10/site-packages (from spacy) (2.4.6)\r\n",
      "Requirement already satisfied: jinja2 in /Users/amitmistriel/.conda/envs/workspace/lib/python3.10/site-packages (from spacy) (3.1.2)\r\n",
      "Requirement already satisfied: langcodes<4.0.0,>=3.2.0 in /Users/amitmistriel/.conda/envs/workspace/lib/python3.10/site-packages (from spacy) (3.3.0)\r\n",
      "Requirement already satisfied: preshed<3.1.0,>=3.0.2 in /Users/amitmistriel/.conda/envs/workspace/lib/python3.10/site-packages (from spacy) (3.0.8)\r\n",
      "Requirement already satisfied: spacy-loggers<2.0.0,>=1.0.0 in /Users/amitmistriel/.conda/envs/workspace/lib/python3.10/site-packages (from spacy) (1.0.4)\r\n",
      "Requirement already satisfied: requests<3.0.0,>=2.13.0 in /Users/amitmistriel/.conda/envs/workspace/lib/python3.10/site-packages (from spacy) (2.28.1)\r\n",
      "Requirement already satisfied: typer<0.8.0,>=0.3.0 in /Users/amitmistriel/.conda/envs/workspace/lib/python3.10/site-packages (from spacy) (0.7.0)\r\n",
      "Requirement already satisfied: murmurhash<1.1.0,>=0.28.0 in /Users/amitmistriel/.conda/envs/workspace/lib/python3.10/site-packages (from spacy) (1.0.9)\r\n",
      "Requirement already satisfied: smart-open<7.0.0,>=5.2.1 in /Users/amitmistriel/.conda/envs/workspace/lib/python3.10/site-packages (from spacy) (6.3.0)\r\n",
      "Requirement already satisfied: catalogue<2.1.0,>=2.0.6 in /Users/amitmistriel/.conda/envs/workspace/lib/python3.10/site-packages (from spacy) (2.0.8)\r\n",
      "Requirement already satisfied: pydantic!=1.8,!=1.8.1,<1.11.0,>=1.7.4 in /Users/amitmistriel/.conda/envs/workspace/lib/python3.10/site-packages (from spacy) (1.10.5)\r\n",
      "Requirement already satisfied: cymem<2.1.0,>=2.0.2 in /Users/amitmistriel/.conda/envs/workspace/lib/python3.10/site-packages (from spacy) (2.0.7)\r\n",
      "Requirement already satisfied: spacy-legacy<3.1.0,>=3.0.11 in /Users/amitmistriel/.conda/envs/workspace/lib/python3.10/site-packages (from spacy) (3.0.12)\r\n",
      "Requirement already satisfied: pathy>=0.10.0 in /Users/amitmistriel/.conda/envs/workspace/lib/python3.10/site-packages (from spacy) (0.10.1)\r\n",
      "Requirement already satisfied: packaging>=20.0 in /Users/amitmistriel/.conda/envs/workspace/lib/python3.10/site-packages (from spacy) (21.3)\r\n",
      "Requirement already satisfied: numpy>=1.15.0 in /Users/amitmistriel/.conda/envs/workspace/lib/python3.10/site-packages (from spacy) (1.23.4)\r\n",
      "Requirement already satisfied: wasabi<1.2.0,>=0.9.1 in /Users/amitmistriel/.conda/envs/workspace/lib/python3.10/site-packages (from spacy) (1.1.1)\r\n",
      "Requirement already satisfied: thinc<8.2.0,>=8.1.0 in /Users/amitmistriel/.conda/envs/workspace/lib/python3.10/site-packages (from spacy) (8.1.8)\r\n",
      "Requirement already satisfied: pyparsing!=3.0.5,>=2.0.2 in /Users/amitmistriel/.conda/envs/workspace/lib/python3.10/site-packages (from packaging>=20.0->spacy) (3.0.9)\r\n",
      "Requirement already satisfied: typing-extensions>=4.2.0 in /Users/amitmistriel/.conda/envs/workspace/lib/python3.10/site-packages (from pydantic!=1.8,!=1.8.1,<1.11.0,>=1.7.4->spacy) (4.4.0)\r\n",
      "Requirement already satisfied: idna<4,>=2.5 in /Users/amitmistriel/.conda/envs/workspace/lib/python3.10/site-packages (from requests<3.0.0,>=2.13.0->spacy) (3.4)\r\n",
      "Requirement already satisfied: certifi>=2017.4.17 in /Users/amitmistriel/.conda/envs/workspace/lib/python3.10/site-packages (from requests<3.0.0,>=2.13.0->spacy) (2022.9.24)\r\n",
      "Requirement already satisfied: charset-normalizer<3,>=2 in /Users/amitmistriel/.conda/envs/workspace/lib/python3.10/site-packages (from requests<3.0.0,>=2.13.0->spacy) (2.0.4)\r\n",
      "Requirement already satisfied: urllib3<1.27,>=1.21.1 in /Users/amitmistriel/.conda/envs/workspace/lib/python3.10/site-packages (from requests<3.0.0,>=2.13.0->spacy) (1.26.12)\r\n",
      "Requirement already satisfied: confection<1.0.0,>=0.0.1 in /Users/amitmistriel/.conda/envs/workspace/lib/python3.10/site-packages (from thinc<8.2.0,>=8.1.0->spacy) (0.0.4)\r\n",
      "Requirement already satisfied: blis<0.8.0,>=0.7.8 in /Users/amitmistriel/.conda/envs/workspace/lib/python3.10/site-packages (from thinc<8.2.0,>=8.1.0->spacy) (0.7.9)\r\n",
      "Requirement already satisfied: click<9.0.0,>=7.1.1 in /Users/amitmistriel/.conda/envs/workspace/lib/python3.10/site-packages (from typer<0.8.0,>=0.3.0->spacy) (8.0.4)\r\n",
      "Requirement already satisfied: MarkupSafe>=2.0 in /Users/amitmistriel/.conda/envs/workspace/lib/python3.10/site-packages (from jinja2->spacy) (2.1.1)\r\n",
      "Collecting en-core-web-sm==3.5.0\r\n",
      "  Downloading https://github.com/explosion/spacy-models/releases/download/en_core_web_sm-3.5.0/en_core_web_sm-3.5.0-py3-none-any.whl (12.8 MB)\r\n",
      "\u001B[2K     \u001B[90m━━━━━━━━━━━━━━━━━━━━━━━━━━━━━━━━━━━━━━━\u001B[0m \u001B[32m12.8/12.8 MB\u001B[0m \u001B[31m593.3 kB/s\u001B[0m eta \u001B[36m0:00:00\u001B[0m00:01\u001B[0m00:02\u001B[0m\r\n",
      "\u001B[?25hRequirement already satisfied: spacy<3.6.0,>=3.5.0 in /Users/amitmistriel/.conda/envs/workspace/lib/python3.10/site-packages (from en-core-web-sm==3.5.0) (3.5.0)\r\n",
      "Requirement already satisfied: spacy-legacy<3.1.0,>=3.0.11 in /Users/amitmistriel/.conda/envs/workspace/lib/python3.10/site-packages (from spacy<3.6.0,>=3.5.0->en-core-web-sm==3.5.0) (3.0.12)\r\n",
      "Requirement already satisfied: typer<0.8.0,>=0.3.0 in /Users/amitmistriel/.conda/envs/workspace/lib/python3.10/site-packages (from spacy<3.6.0,>=3.5.0->en-core-web-sm==3.5.0) (0.7.0)\r\n",
      "Requirement already satisfied: srsly<3.0.0,>=2.4.3 in /Users/amitmistriel/.conda/envs/workspace/lib/python3.10/site-packages (from spacy<3.6.0,>=3.5.0->en-core-web-sm==3.5.0) (2.4.6)\r\n",
      "Requirement already satisfied: langcodes<4.0.0,>=3.2.0 in /Users/amitmistriel/.conda/envs/workspace/lib/python3.10/site-packages (from spacy<3.6.0,>=3.5.0->en-core-web-sm==3.5.0) (3.3.0)\r\n",
      "Requirement already satisfied: catalogue<2.1.0,>=2.0.6 in /Users/amitmistriel/.conda/envs/workspace/lib/python3.10/site-packages (from spacy<3.6.0,>=3.5.0->en-core-web-sm==3.5.0) (2.0.8)\r\n",
      "Requirement already satisfied: wasabi<1.2.0,>=0.9.1 in /Users/amitmistriel/.conda/envs/workspace/lib/python3.10/site-packages (from spacy<3.6.0,>=3.5.0->en-core-web-sm==3.5.0) (1.1.1)\r\n",
      "Requirement already satisfied: spacy-loggers<2.0.0,>=1.0.0 in /Users/amitmistriel/.conda/envs/workspace/lib/python3.10/site-packages (from spacy<3.6.0,>=3.5.0->en-core-web-sm==3.5.0) (1.0.4)\r\n",
      "Requirement already satisfied: tqdm<5.0.0,>=4.38.0 in /Users/amitmistriel/.conda/envs/workspace/lib/python3.10/site-packages (from spacy<3.6.0,>=3.5.0->en-core-web-sm==3.5.0) (4.64.1)\r\n",
      "Requirement already satisfied: murmurhash<1.1.0,>=0.28.0 in /Users/amitmistriel/.conda/envs/workspace/lib/python3.10/site-packages (from spacy<3.6.0,>=3.5.0->en-core-web-sm==3.5.0) (1.0.9)\r\n",
      "Requirement already satisfied: preshed<3.1.0,>=3.0.2 in /Users/amitmistriel/.conda/envs/workspace/lib/python3.10/site-packages (from spacy<3.6.0,>=3.5.0->en-core-web-sm==3.5.0) (3.0.8)\r\n",
      "Requirement already satisfied: requests<3.0.0,>=2.13.0 in /Users/amitmistriel/.conda/envs/workspace/lib/python3.10/site-packages (from spacy<3.6.0,>=3.5.0->en-core-web-sm==3.5.0) (2.28.1)\r\n",
      "Requirement already satisfied: smart-open<7.0.0,>=5.2.1 in /Users/amitmistriel/.conda/envs/workspace/lib/python3.10/site-packages (from spacy<3.6.0,>=3.5.0->en-core-web-sm==3.5.0) (6.3.0)\r\n",
      "Requirement already satisfied: jinja2 in /Users/amitmistriel/.conda/envs/workspace/lib/python3.10/site-packages (from spacy<3.6.0,>=3.5.0->en-core-web-sm==3.5.0) (3.1.2)\r\n",
      "Requirement already satisfied: numpy>=1.15.0 in /Users/amitmistriel/.conda/envs/workspace/lib/python3.10/site-packages (from spacy<3.6.0,>=3.5.0->en-core-web-sm==3.5.0) (1.23.4)\r\n",
      "Requirement already satisfied: pathy>=0.10.0 in /Users/amitmistriel/.conda/envs/workspace/lib/python3.10/site-packages (from spacy<3.6.0,>=3.5.0->en-core-web-sm==3.5.0) (0.10.1)\r\n",
      "Requirement already satisfied: cymem<2.1.0,>=2.0.2 in /Users/amitmistriel/.conda/envs/workspace/lib/python3.10/site-packages (from spacy<3.6.0,>=3.5.0->en-core-web-sm==3.5.0) (2.0.7)\r\n",
      "Requirement already satisfied: thinc<8.2.0,>=8.1.0 in /Users/amitmistriel/.conda/envs/workspace/lib/python3.10/site-packages (from spacy<3.6.0,>=3.5.0->en-core-web-sm==3.5.0) (8.1.8)\r\n",
      "Requirement already satisfied: setuptools in /Users/amitmistriel/.conda/envs/workspace/lib/python3.10/site-packages (from spacy<3.6.0,>=3.5.0->en-core-web-sm==3.5.0) (65.5.0)\r\n",
      "Requirement already satisfied: pydantic!=1.8,!=1.8.1,<1.11.0,>=1.7.4 in /Users/amitmistriel/.conda/envs/workspace/lib/python3.10/site-packages (from spacy<3.6.0,>=3.5.0->en-core-web-sm==3.5.0) (1.10.5)\r\n",
      "Requirement already satisfied: packaging>=20.0 in /Users/amitmistriel/.conda/envs/workspace/lib/python3.10/site-packages (from spacy<3.6.0,>=3.5.0->en-core-web-sm==3.5.0) (21.3)\r\n",
      "Requirement already satisfied: pyparsing!=3.0.5,>=2.0.2 in /Users/amitmistriel/.conda/envs/workspace/lib/python3.10/site-packages (from packaging>=20.0->spacy<3.6.0,>=3.5.0->en-core-web-sm==3.5.0) (3.0.9)\r\n",
      "Requirement already satisfied: typing-extensions>=4.2.0 in /Users/amitmistriel/.conda/envs/workspace/lib/python3.10/site-packages (from pydantic!=1.8,!=1.8.1,<1.11.0,>=1.7.4->spacy<3.6.0,>=3.5.0->en-core-web-sm==3.5.0) (4.4.0)\r\n",
      "Requirement already satisfied: urllib3<1.27,>=1.21.1 in /Users/amitmistriel/.conda/envs/workspace/lib/python3.10/site-packages (from requests<3.0.0,>=2.13.0->spacy<3.6.0,>=3.5.0->en-core-web-sm==3.5.0) (1.26.12)\r\n",
      "Requirement already satisfied: idna<4,>=2.5 in /Users/amitmistriel/.conda/envs/workspace/lib/python3.10/site-packages (from requests<3.0.0,>=2.13.0->spacy<3.6.0,>=3.5.0->en-core-web-sm==3.5.0) (3.4)\r\n",
      "Requirement already satisfied: charset-normalizer<3,>=2 in /Users/amitmistriel/.conda/envs/workspace/lib/python3.10/site-packages (from requests<3.0.0,>=2.13.0->spacy<3.6.0,>=3.5.0->en-core-web-sm==3.5.0) (2.0.4)\r\n",
      "Requirement already satisfied: certifi>=2017.4.17 in /Users/amitmistriel/.conda/envs/workspace/lib/python3.10/site-packages (from requests<3.0.0,>=2.13.0->spacy<3.6.0,>=3.5.0->en-core-web-sm==3.5.0) (2022.9.24)\r\n",
      "Requirement already satisfied: blis<0.8.0,>=0.7.8 in /Users/amitmistriel/.conda/envs/workspace/lib/python3.10/site-packages (from thinc<8.2.0,>=8.1.0->spacy<3.6.0,>=3.5.0->en-core-web-sm==3.5.0) (0.7.9)\r\n",
      "Requirement already satisfied: confection<1.0.0,>=0.0.1 in /Users/amitmistriel/.conda/envs/workspace/lib/python3.10/site-packages (from thinc<8.2.0,>=8.1.0->spacy<3.6.0,>=3.5.0->en-core-web-sm==3.5.0) (0.0.4)\r\n",
      "Requirement already satisfied: click<9.0.0,>=7.1.1 in /Users/amitmistriel/.conda/envs/workspace/lib/python3.10/site-packages (from typer<0.8.0,>=0.3.0->spacy<3.6.0,>=3.5.0->en-core-web-sm==3.5.0) (8.0.4)\r\n",
      "Requirement already satisfied: MarkupSafe>=2.0 in /Users/amitmistriel/.conda/envs/workspace/lib/python3.10/site-packages (from jinja2->spacy<3.6.0,>=3.5.0->en-core-web-sm==3.5.0) (2.1.1)\r\n",
      "\u001B[38;5;2m✔ Download and installation successful\u001B[0m\r\n",
      "You can now load the package via spacy.load('en_core_web_sm')\r\n"
     ]
    }
   ],
   "source": [
    "!pip install spacy\n",
    "!python -m spacy download en_core_web_sm"
   ],
   "metadata": {
    "collapsed": false
   }
  },
  {
   "cell_type": "code",
   "execution_count": 103,
   "outputs": [],
   "source": [
    "import spacy\n",
    "nlp = spacy.load(\"en_core_web_sm\")"
   ],
   "metadata": {
    "collapsed": false
   }
  },
  {
   "cell_type": "markdown",
   "source": [
    "# Define intent identifiers\n",
    "INTENT_FLIGHT_BOOKING = 1\n",
    "INTENT_HOTEL_BOOKING = 2\n",
    "INTENT_GREETING = 3\n",
    "INTENT_CHANGE_DATE = 4\n",
    "INTENT_CHANGE_DESTINATION = 5\n",
    "INTENT_END_BOOKING = 8\n",
    "INTENT_CANCEL_FLIGHT = 7\n",
    "\n",
    "# Define state identifiers\n",
    "UNIDENTIFIED = -1\n",
    "STATE_INITIAL = 0\n",
    "STATE_FLIGHT_RESERVATION = 1\n",
    "STATE_FLIGHT_CHANGE = 2\n",
    "STATE_FLIGHT_CANCELLATION = 3\n",
    "STATE_MISSING_DATE = 4\n",
    "STATE_MISSING_DATE_DESTINATION = 6\n",
    "STATE_MISSING_DESTINATION = 5\n",
    "STATE_MISSING_DATE_CHANGE = 7\n",
    "STATE_MISSING_DATE_DESTINATION_CHANGE = 8\n",
    "STATE_MISSING_DESTINATION_CHANGE = 9\n",
    "STATE_MISSING_DATE_CANCEL = 10\n",
    "STATE_MISSING_DATE_DESTINATION_CANCEL = 11\n",
    "STATE_MISSING_DESTINATION_CANCEL = 12\n",
    "STATE_CONFIRMATION = 13\n"
   ],
   "metadata": {
    "collapsed": false
   }
  },
  {
   "cell_type": "markdown",
   "source": [
    "# Process the input from the user"
   ],
   "metadata": {
    "collapsed": false
   }
  },
  {
   "cell_type": "code",
   "execution_count": 104,
   "outputs": [],
   "source": [
    "from sklearn.feature_extraction.text import CountVectorizer\n",
    "from sklearn.linear_model import LogisticRegression\n",
    "from nltk.sentiment import SentimentIntensityAnalyzer\n",
    "from nltk.tokenize import word_tokenize\n",
    "from nltk.stem import WordNetLemmatizer\n",
    "from nltk.corpus import stopwords\n",
    "from nltk.tag import pos_tag\n",
    "from nltk.chunk import ne_chunk\n",
    "\n",
    "def process_chat_input1(user_input, current_state):\n",
    "    # initialize variables to be returned\n",
    "    output = \"\"\n",
    "    intent = \"\"\n",
    "    next_state = \"\"\n",
    "    entities = []\n",
    "    polarity = \"\"\n",
    "\n",
    "    # perform sentiment analysis\n",
    "    sia = SentimentIntensityAnalyzer()\n",
    "    scores = sia.polarity_scores(user_input)\n",
    "    polarity_score = scores['compound']\n",
    "    if polarity_score > 0:\n",
    "        polarity = \"positive\"\n",
    "    elif polarity_score < 0:\n",
    "        polarity = \"negative\"\n",
    "    else:\n",
    "        polarity = \"neutral\"\n",
    "\n",
    "    # perform NER\n",
    "    doc = nlp(user_input)\n",
    "    for ent in doc.ents:\n",
    "        if ent.label_ == 'GPE':\n",
    "            entities.append(('GPE', ent.text))\n",
    "        elif ent.label_ == 'DATE':\n",
    "            entities.append(('DATE', ent.text))\n",
    "\n",
    "    # find the intent\n",
    "    input_vec = vectorizer.transform([user_input])\n",
    "    intent = model.predict(input_vec)[0]\n",
    "\n",
    "    # find the next state\n",
    "    if intent == 'Flight_Booking': #state 1\n",
    "        if 'GPE' not in [e[0] for e in entities] and 'DATE' not in [e[0] for e in entities]: #state 6\n",
    "            output = \"Where and when do you want to travel?\"\n",
    "            next_state = 13\n",
    "        elif 'GPE' not in [e[0] for e in entities]: #state 5\n",
    "            output = \"Where do you want to travel?\"\n",
    "            next_state = 13\n",
    "        elif 'DATE' not in [e[0] for e in entities]: #state 4\n",
    "            output = \"When do you want to travel?\"\n",
    "            next_state = 13\n",
    "        else:\n",
    "            output = \"Your flight has been booked. Thank you for choosing us!\"\n",
    "            next_state = 0 #to beginning\n",
    "\n",
    "    elif intent == 'Hotel_Booking':\n",
    "        if 'GPE' not in [e[0] for e in entities] and 'DATE' not in [e[0] for e in entities]: #state 6\n",
    "            output = \"Where and when do you want to book your hotel?\"\n",
    "            next_state = 13\n",
    "        elif 'GPE' not in [e[0] for e in entities]: #state 5\n",
    "            output = \"Where do you want to book your hotel?\"\n",
    "            next_state = 13\n",
    "        elif 'DATE' not in [e[0] for e in entities]: #state 4\n",
    "            output = \"When do you want to book your hotel?\"\n",
    "            next_state = 13\n",
    "        else:\n",
    "            output = \"Your hotel has been booked. Thank you for choosing us!\"\n",
    "            next_state = 0\n",
    "\n",
    "    elif intent == 'Change_Flight': #state 2\n",
    "        if 'GPE' not in [e[0] for e in entities] and 'DATE' not in [e[0] for e in entities]: #state 8\n",
    "            output = \"Where and when do you want to change your flight?\"\n",
    "            next_state = 13\n",
    "        elif 'GPE' not in [e[0] for e in entities]: #state 9\n",
    "            output = \"Where do you want to change your flight to?\"\n",
    "            next_state = 13\n",
    "        elif 'DATE' not in [e[0] for e in entities]: #state 7\n",
    "            output = \"When do you want to change your flight?\"\n",
    "            next_state = 13\n",
    "        else:\n",
    "            output = \"Your flight has been changed. Thank you for choosing us!\"\n",
    "            next_state = 0\n",
    "\n",
    "    elif intent == 'Change_Destination': #state 2\n",
    "        if 'GPE' not in [e[0] for e in entities]: #state 9\n",
    "            output = \"Where do you want to change your destination to?\"\n",
    "            next_state = 13\n",
    "        else:\n",
    "            output = \"Your destination has been changed. Thank you for choosing us!\"\n",
    "            next_state = 0\n",
    "    elif intent == 'Change_Date': #state 2\n",
    "        if 'DATE' not in [e[0] for e in entities]: #state 7\n",
    "            output = \"When do you want to change your destination to?\"\n",
    "            next_state = 13\n",
    "        else:\n",
    "            output = \"Your destination has been changed. Thank you for choosing us!\"\n",
    "            next_state = 0\n",
    "    elif intent == 'cancel_flight': #state 3\n",
    "        if 'GPE' not in [e[0] for e in entities] and 'DATE' not in [e[0] for e in entities]: #state 11\n",
    "            output = \"Where and when do you want to cancel your flight?\"\n",
    "            next_state = 13\n",
    "        elif 'DATE' not in [e[0] for e in entities]: #state 12\n",
    "            output = \"When do you want to cancel your booking?\"\n",
    "            next_state = 13\n",
    "        elif 'GPE' not in [e[0] for e in entities]: #state 10\n",
    "            output = \"Where do you want to cancel your destination to?\"\n",
    "            next_state = 13\n",
    "        else:\n",
    "            output = \"Your booking has been cancelled. Thank you for choosing us!\"\n",
    "            next_state = 0\n",
    "    elif intent == 'end_booking':\n",
    "        output = \"Thank you for using our service.\"\n",
    "        next_state = 0 #to beginning\n",
    "    elif current_state == 0:\n",
    "        output = \"Can i help you with something else?\"\n",
    "        next_state = 0\n",
    "    elif current_state == 13: #confirmation\n",
    "        output = \"Your request confirm! Enter exit if you finish or write something else that you want:)\"\n",
    "        next_state = 0\n",
    "    else:\n",
    "        output = \"Sorry, I don't understand what you mean by that.\"\n",
    "        next_state = -1\n",
    "\n",
    "    return output, intent, next_state, entities, polarity\n"
   ],
   "metadata": {
    "collapsed": false
   }
  },
  {
   "cell_type": "markdown",
   "source": [
    "# Online mode"
   ],
   "metadata": {
    "collapsed": false
   }
  },
  {
   "cell_type": "code",
   "execution_count": 117,
   "outputs": [],
   "source": [
    "def run_online():\n",
    "    flag = True\n",
    "    output=''\n",
    "    name=''\n",
    "    continue_d = True\n",
    "    current_state = 0\n",
    "    while continue_d:\n",
    "        if flag:\n",
    "            output=\"Hello, what is your name?\"\n",
    "            print(\"Chatbot: \" +output)\n",
    "            name=input(output)\n",
    "            print(\"User: \"+name)\n",
    "            output= f'Hello {name}, How can i help you?'\n",
    "            print(\"Chatbot: \"+output)\n",
    "            flag = False\n",
    "        if current_state == -1:\n",
    "            continue_d=False\n",
    "            print(\"Chatbot: GoodBye!\")\n",
    "        else:\n",
    "            user_input=input(output)\n",
    "            user_input= user_input.lower()\n",
    "            if user_input==\"exit\":\n",
    "                continue_d= False\n",
    "                print(\"Chatbot: GoodBye!\")\n",
    "            else:\n",
    "                print(\"User: \"+user_input)\n",
    "                output, intent, next_state, entities, polarity = process_chat_input1(user_input, current_state)\n",
    "                print(\"Chatbot: \" +output)\n",
    "                current_state = next_state\n",
    "\n",
    "# run_online()"
   ],
   "metadata": {
    "collapsed": false
   }
  },
  {
   "cell_type": "markdown",
   "source": [
    "# Offline mode"
   ],
   "metadata": {
    "collapsed": false
   }
  },
  {
   "cell_type": "code",
   "execution_count": 128,
   "outputs": [],
   "source": [
    "import pandas as pd\n",
    "\n",
    "def run_offline_chatbot(input_file_path, output_file_path):\n",
    "    current_state = 0\n",
    "    df = pd.read_csv(input_file_path)\n",
    "\n",
    "    responses = []\n",
    "    for index, row in df.iterrows():\n",
    "        output, intent, next_state, entities, polarity = process_chat_input1(row['input'], current_state)\n",
    "        current_state = next_state\n",
    "        response = {\n",
    "            \"output\": output,\n",
    "            \"intent\": intent,\n",
    "            \"next_state\":next_state,\n",
    "            \"entities\": entities,\n",
    "            \"ploralty\": polarity\n",
    "        }\n",
    "        responses.append(response)\n",
    "\n",
    "    # Write the responses to a CSV file\n",
    "    response_df = pd.DataFrame(responses)\n",
    "    response_df.to_csv(output_file_path, index=False)\n",
    "\n",
    "input_file_path=\"input1.csv\"\n",
    "output_file_path=\"output1.csv\"\n",
    "run_offline_chatbot(input_file_path, output_file_path)"
   ],
   "metadata": {
    "collapsed": false
   }
  }
 ],
 "metadata": {
  "kernelspec": {
   "display_name": "Python 3",
   "language": "python",
   "name": "python3"
  },
  "language_info": {
   "codemirror_mode": {
    "name": "ipython",
    "version": 2
   },
   "file_extension": ".py",
   "mimetype": "text/x-python",
   "name": "python",
   "nbconvert_exporter": "python",
   "pygments_lexer": "ipython2",
   "version": "2.7.6"
  }
 },
 "nbformat": 4,
 "nbformat_minor": 0
}
